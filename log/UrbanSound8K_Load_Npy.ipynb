{
  "nbformat": 4,
  "nbformat_minor": 0,
  "metadata": {
    "colab": {
      "name": "UrbanSound8K_Load_Npy.ipynb",
      "version": "0.3.2",
      "provenance": []
    },
    "kernelspec": {
      "display_name": "Python 3",
      "language": "python",
      "name": "python3"
    }
  },
  "cells": [
    {
      "metadata": {
        "id": "19Piu2aoZGKZ",
        "colab_type": "code",
        "outputId": "d0865c73-ea38-44eb-a347-6ca415da384a",
        "colab": {
          "base_uri": "https://localhost:8080/",
          "height": 127
        }
      },
      "cell_type": "code",
      "source": [
        "from google.colab import drive\n",
        "drive.mount('/content/drive')"
      ],
      "execution_count": 1,
      "outputs": [
        {
          "output_type": "stream",
          "text": [
            "Go to this URL in a browser: https://accounts.google.com/o/oauth2/auth?client_id=947318989803-6bn6qk8qdgf4n4g3pfee6491hc0brc4i.apps.googleusercontent.com&redirect_uri=urn%3Aietf%3Awg%3Aoauth%3A2.0%3Aoob&scope=email%20https%3A%2F%2Fwww.googleapis.com%2Fauth%2Fdocs.test%20https%3A%2F%2Fwww.googleapis.com%2Fauth%2Fdrive%20https%3A%2F%2Fwww.googleapis.com%2Fauth%2Fdrive.photos.readonly%20https%3A%2F%2Fwww.googleapis.com%2Fauth%2Fpeopleapi.readonly&response_type=code\n",
            "\n",
            "Enter your authorization code:\n",
            "··········\n",
            "Mounted at /content/drive\n"
          ],
          "name": "stdout"
        }
      ]
    },
    {
      "metadata": {
        "id": "Oul0FoA2ZDMM",
        "colab_type": "code",
        "outputId": "e3b9d71f-3b68-443a-9a27-68610c5c29ef",
        "colab": {
          "base_uri": "https://localhost:8080/",
          "height": 35
        }
      },
      "cell_type": "code",
      "source": [
        "import keras\n",
        "from keras import backend as K\n",
        "from keras.models import Sequential\n",
        "from keras.layers import Dense, Dropout, Flatten\n",
        "from keras.layers import Conv2D, MaxPooling2D"
      ],
      "execution_count": 2,
      "outputs": [
        {
          "output_type": "stream",
          "text": [
            "Using TensorFlow backend.\n"
          ],
          "name": "stderr"
        }
      ]
    },
    {
      "metadata": {
        "id": "D2O5h0ncZDMc",
        "colab_type": "code",
        "colab": {}
      },
      "cell_type": "code",
      "source": [
        "import numpy as np\n",
        "import os\n",
        "import glob"
      ],
      "execution_count": 0,
      "outputs": []
    },
    {
      "metadata": {
        "id": "1FOiNRX8ZlWg",
        "colab_type": "code",
        "collapsed": true,
        "colab": {}
      },
      "cell_type": "code",
      "source": [
        "#os.listdir('drive/My Drive/Github/UrbanSound8K')"
      ],
      "execution_count": 0,
      "outputs": []
    },
    {
      "metadata": {
        "id": "b6g2P4z-ZDMf",
        "colab_type": "code",
        "outputId": "542e2436-8d96-4aa1-a96f-ed69a410e328",
        "colab": {
          "base_uri": "https://localhost:8080/",
          "height": 197
        }
      },
      "cell_type": "code",
      "source": [
        "folders = os.listdir('drive/My Drive/Github/UrbanSound8K')\n",
        "folders.sort()\n",
        "\n",
        "\n",
        "classFolders = [folder for folder in folders if 'class' in folder]\n",
        "\n",
        "imgsList = list()\n",
        "classList = list()\n",
        "\n",
        "for j in range(len(classFolders)):\n",
        "    \n",
        "    npyFileName = glob.glob('drive/My Drive/Github/UrbanSound8K' + '/' + classFolders[j] + '/' + '*.npy')\n",
        "\n",
        "    print(npyFileName)\n",
        "    \n",
        "    imgs = np.load(npyFileName[0])\n",
        "\n",
        "    imgsList.append(imgs)\n",
        "    \n",
        "    classList.append(j * np.ones(imgs.shape[0]))\n",
        "    "
      ],
      "execution_count": 5,
      "outputs": [
        {
          "output_type": "stream",
          "text": [
            "['drive/My Drive/Github/UrbanSound8K/class00/class00.npy']\n",
            "['drive/My Drive/Github/UrbanSound8K/class01/class01.npy']\n",
            "['drive/My Drive/Github/UrbanSound8K/class02/class02.npy']\n",
            "['drive/My Drive/Github/UrbanSound8K/class03/class03.npy']\n",
            "['drive/My Drive/Github/UrbanSound8K/class04/class04.npy']\n",
            "['drive/My Drive/Github/UrbanSound8K/class05/class05.npy']\n",
            "['drive/My Drive/Github/UrbanSound8K/class06/class06.npy']\n",
            "['drive/My Drive/Github/UrbanSound8K/class07/class07.npy']\n",
            "['drive/My Drive/Github/UrbanSound8K/class08/class08.npy']\n",
            "['drive/My Drive/Github/UrbanSound8K/class09/class09.npy']\n"
          ],
          "name": "stdout"
        }
      ]
    },
    {
      "metadata": {
        "id": "EOpYsYayZDMi",
        "colab_type": "code",
        "outputId": "ea4b0c4d-0524-4f91-f069-3baa550776c8",
        "colab": {
          "base_uri": "https://localhost:8080/",
          "height": 197
        }
      },
      "cell_type": "code",
      "source": [
        "for i in range(len(imgsList)):\n",
        "    \n",
        "    if i == 0:\n",
        "        x_full = imgsList[i]\n",
        "        y_full = classList[i]\n",
        "    else:   \n",
        "        x_full = np.vstack((x_full, imgsList[i]))\n",
        "        y_full = np.concatenate((y_full, classList[i]))\n",
        "\n",
        "    print('Stacked imgsList[{}] & classList[{}]'.format(i, i))"
      ],
      "execution_count": 6,
      "outputs": [
        {
          "output_type": "stream",
          "text": [
            "Stacked imgsList[0] & classList[0]\n",
            "Stacked imgsList[1] & classList[1]\n",
            "Stacked imgsList[2] & classList[2]\n",
            "Stacked imgsList[3] & classList[3]\n",
            "Stacked imgsList[4] & classList[4]\n",
            "Stacked imgsList[5] & classList[5]\n",
            "Stacked imgsList[6] & classList[6]\n",
            "Stacked imgsList[7] & classList[7]\n",
            "Stacked imgsList[8] & classList[8]\n",
            "Stacked imgsList[9] & classList[9]\n"
          ],
          "name": "stdout"
        }
      ]
    },
    {
      "metadata": {
        "id": "59UKNVB_ZDMm",
        "colab_type": "code",
        "colab": {}
      },
      "cell_type": "code",
      "source": [
        "num = len(y_full)\n",
        "trainNum = int(0.8 * num)\n",
        "testNum = num - trainNum\n",
        "\n",
        "randomIndex = np.random.permutation(num)\n",
        "trainIndex = randomIndex[:trainNum]\n",
        "trainIndex.sort()\n",
        "testIndex = randomIndex[trainNum:]\n",
        "testIndex.sort()"
      ],
      "execution_count": 0,
      "outputs": []
    },
    {
      "metadata": {
        "id": "1NdxZ45vZDMp",
        "colab_type": "code",
        "colab": {}
      },
      "cell_type": "code",
      "source": [
        "y_train = y_full[trainIndex]\n",
        "y_test = y_full[testIndex]\n",
        "x_train = x_full[trainIndex]\n",
        "x_test = x_full[testIndex]\n",
        "\n",
        "del x_full"
      ],
      "execution_count": 0,
      "outputs": []
    },
    {
      "metadata": {
        "id": "oRsoFxDOZDMs",
        "colab_type": "code",
        "colab": {}
      },
      "cell_type": "code",
      "source": [
        "num_classes = 10\n",
        "\n",
        "img_rows = 224\n",
        "img_cols = 224\n",
        "\n",
        "if K.image_data_format() == 'channels_first':\n",
        "    x_train = x_train.reshape(x_train.shape[0], 1, img_rows, img_cols)\n",
        "    x_test = x_test.reshape(x_test.shape[0], 1, img_rows, img_cols)\n",
        "    input_shape = (1, img_rows, img_cols)\n",
        "else:\n",
        "    x_train = x_train.reshape(x_train.shape[0], img_rows, img_cols, 1)\n",
        "    x_test = x_test.reshape(x_test.shape[0], img_rows, img_cols, 1)\n",
        "    input_shape = (img_rows, img_cols, 1)\n"
      ],
      "execution_count": 0,
      "outputs": []
    },
    {
      "metadata": {
        "id": "Cq97Y1tJZDMv",
        "colab_type": "code",
        "outputId": "3dc7f402-8053-4414-c93e-d12ba0a9ae0b",
        "colab": {
          "base_uri": "https://localhost:8080/",
          "height": 71
        }
      },
      "cell_type": "code",
      "source": [
        "x_train = x_train.astype('float32')\n",
        "x_test = x_test.astype('float32')\n",
        "x_train /= 255\n",
        "x_test /= 255\n",
        "print('x_train shape:', x_train.shape)\n",
        "print(x_train.shape[0], 'train samples')\n",
        "print(x_test.shape[0], 'test samples')\n",
        "\n",
        "# Duplicate data here\n",
        "x_train_dup = np.stack([x_train[:, :, :, 0], x_train[:, :, :, 0], x_train[:, :, :, 0]], axis = -1)\n",
        "\n",
        "del x_train\n",
        "\n",
        "x_test_dup = np.stack([x_test[:, :, :, 0], x_test[:, :, :, 0], x_test[:, :, :, 0]], axis = -1)\n",
        "\n",
        "del x_test"
      ],
      "execution_count": 10,
      "outputs": [
        {
          "output_type": "stream",
          "text": [
            "x_train shape: (6112, 224, 224, 1)\n",
            "6112 train samples\n",
            "1528 test samples\n"
          ],
          "name": "stdout"
        }
      ]
    },
    {
      "metadata": {
        "id": "Tnmjqs7FcVGV",
        "colab_type": "code",
        "colab": {}
      },
      "cell_type": "code",
      "source": [
        "# convert class vectors to binary class matrices\n",
        "y_train = keras.utils.to_categorical(y_train, num_classes)\n",
        "y_test = keras.utils.to_categorical(y_test, num_classes)"
      ],
      "execution_count": 0,
      "outputs": []
    },
    {
      "metadata": {
        "id": "6wlI43UpZDMz",
        "colab_type": "code",
        "colab": {}
      },
      "cell_type": "code",
      "source": [
        "# model = Sequential()\n",
        "# model.add(Conv2D(32, kernel_size=(3, 3),\n",
        "#                  activation='relu',\n",
        "#                  input_shape=input_shape))\n",
        "# model.add(Conv2D(64, (3, 3), activation='relu'))\n",
        "# model.add(MaxPooling2D(pool_size=(2, 2)))\n",
        "# model.add(Dropout(0.25))\n",
        "# model.add(Flatten())\n",
        "# model.add(Dense(128, activation='relu'))\n",
        "# model.add(Dropout(0.5))\n",
        "# model.add(Dense(num_classes, activation='softmax'))\n",
        "\n",
        "# model.compile(loss=keras.losses.categorical_crossentropy,\n",
        "#               optimizer=keras.optimizers.Adadelta(),\n",
        "#               metrics=['accuracy'])"
      ],
      "execution_count": 0,
      "outputs": []
    },
    {
      "metadata": {
        "id": "Z03J_F-2dm3T",
        "colab_type": "code",
        "collapsed": true,
        "outputId": "8d62c6d2-c044-47db-faf9-4b0ae739711c",
        "colab": {
          "base_uri": "https://localhost:8080/",
          "height": 71
        }
      },
      "cell_type": "code",
      "source": [
        "from keras.applications.xception import Xception\n",
        "from keras.layers import Input, GlobalAveragePooling2D, Dense, Dropout\n",
        "from keras.models import Sequential\n",
        "from keras import backend as K\n",
        "\n",
        "imgSize = 224\n",
        "\n",
        "K.clear_session()\n",
        "input_tensor = Input(shape=(imgSize, imgSize, 3))\n",
        "\n",
        "model = Sequential()\n",
        "\n",
        "modelWoTop = Xception(input_tensor=input_tensor, weights='imagenet', include_top=False)\n",
        "model.add(modelWoTop)\n",
        "model.add(GlobalAveragePooling2D())\n",
        "# model.add(Dropout(0.5))\n",
        "model.add(Dense(10, activation='softmax'))\n",
        "\n",
        "print('Compiling Pretrained {} Model'.format(model.layers[0].name))\n",
        "\n",
        "model.compile(loss='categorical_crossentropy',\n",
        "              optimizer='adam',\n",
        "              metrics=['accuracy'])"
      ],
      "execution_count": 13,
      "outputs": [
        {
          "output_type": "stream",
          "text": [
            "Downloading data from https://github.com/fchollet/deep-learning-models/releases/download/v0.4/xception_weights_tf_dim_ordering_tf_kernels_notop.h5\n",
            "83689472/83683744 [==============================] - 2s 0us/step\n",
            "Compiling Pretrained xception Model\n"
          ],
          "name": "stdout"
        }
      ]
    },
    {
      "metadata": {
        "id": "55A2NpZgdoAT",
        "colab_type": "code",
        "outputId": "c9e750b8-7f6d-42da-a097-9b13d035d74f",
        "colab": {
          "base_uri": "https://localhost:8080/",
          "height": 215
        }
      },
      "cell_type": "code",
      "source": [
        "batch_size = 1\n",
        "epochs = 3\n",
        "\n",
        "print('Training Pretrained {} Model'.format(model.layers[0].name))\n",
        "print('Batch Size: {}\\t Epochs: {}\\t\\n'.format(batch_size, epochs))\n",
        "\n",
        "model.fit(x_train_dup, y_train,\n",
        "          batch_size=batch_size,\n",
        "          epochs=epochs,\n",
        "          verbose=1,\n",
        "          validation_data=(x_test_dup, y_test))"
      ],
      "execution_count": 14,
      "outputs": [
        {
          "output_type": "stream",
          "text": [
            "Training Pretrained xception Model\n",
            "Batch Size: 1\t Epochs: 3\t\n",
            "\n",
            "Train on 6112 samples, validate on 1528 samples\n",
            "Epoch 1/3\n",
            "6112/6112 [==============================] - 10016s 2s/step - loss: nan - acc: 0.1306 - val_loss: nan - val_acc: 0.1322\n",
            "Epoch 2/3\n",
            "6112/6112 [==============================] - 10121s 2s/step - loss: nan - acc: 0.1304 - val_loss: nan - val_acc: 0.1322\n",
            "Epoch 3/3\n",
            "6112/6112 [==============================] - 10194s 2s/step - loss: nan - acc: 0.1304 - val_loss: nan - val_acc: 0.1322\n"
          ],
          "name": "stdout"
        },
        {
          "output_type": "execute_result",
          "data": {
            "text/plain": [
              "<keras.callbacks.History at 0x7f6f09085d30>"
            ]
          },
          "metadata": {
            "tags": []
          },
          "execution_count": 14
        }
      ]
    },
    {
      "metadata": {
        "id": "r_Kx5nIqhmfk",
        "colab_type": "code",
        "colab": {}
      },
      "cell_type": "code",
      "source": [
        "import matplotlib.pyplot as plt\n",
        "\n",
        "def plot_confusion_matrix(cm, classes,\n",
        "                          normalize=False,\n",
        "                          title='Confusion matrix',\n",
        "                          cmap=plt.cm.Blues):\n",
        "    \"\"\"\n",
        "    This function prints and plots the confusion matrix.\n",
        "    Normalization can be applied by setting `normalize=True`.\n",
        "    \"\"\"\n",
        "    if normalize:\n",
        "        cm = cm.astype('float') / cm.sum(axis=1)[:, np.newaxis]\n",
        "        print(\"Normalized confusion matrix\")\n",
        "    else:\n",
        "        print('Confusion matrix, without normalization')\n",
        "\n",
        "    print(cm)\n",
        "\n",
        "    plt.imshow(cm, interpolation='nearest', cmap=cmap)\n",
        "    plt.title(title)\n",
        "    plt.colorbar()\n",
        "    tick_marks = np.arange(len(classes))\n",
        "    plt.xticks(tick_marks, classes, rotation=45)\n",
        "    plt.yticks(tick_marks, classes)\n",
        "\n",
        "    fmt = '.2f' if normalize else 'd'\n",
        "    thresh = cm.max() / 2.\n",
        "    for i, j in itertools.product(range(cm.shape[0]), range(cm.shape[1])):\n",
        "        plt.text(j, i, format(cm[i, j], fmt),\n",
        "                 horizontalalignment=\"center\",\n",
        "                 color=\"white\" if cm[i, j] > thresh else \"black\")\n",
        "\n",
        "    plt.ylabel('True label')\n",
        "    plt.xlabel('Predicted label')\n",
        "    plt.tight_layout()"
      ],
      "execution_count": 0,
      "outputs": []
    },
    {
      "metadata": {
        "id": "jevo_gAmhgTN",
        "colab_type": "code",
        "colab": {}
      },
      "cell_type": "code",
      "source": [
        "# from sklearn.metrics import confusion_matrix\n",
        "\n",
        "# cnf_matrix = confusion_matrix(y_test, y_pred)\n",
        "\n"
      ],
      "execution_count": 0,
      "outputs": []
    },
    {
      "metadata": {
        "scrolled": true,
        "id": "c7bolSInZDM2",
        "colab_type": "code",
        "colab": {}
      },
      "cell_type": "code",
      "source": [
        "# model.fit(x_train, y_train,\n",
        "#           batch_size=batch_size,\n",
        "#           epochs=epochs,\n",
        "#           verbose=1,\n",
        "#           validation_data=(x_test, y_test))\n",
        "# score = model.evaluate(x_test, y_test, verbose=0)\n",
        "# print('Test loss:', score[0])\n",
        "# print('Test accuracy:', score[1])"
      ],
      "execution_count": 0,
      "outputs": []
    },
    {
      "metadata": {
        "id": "P4_7bjpoZDM6",
        "colab_type": "code",
        "colab": {}
      },
      "cell_type": "code",
      "source": [
        ""
      ],
      "execution_count": 0,
      "outputs": []
    }
  ]
}